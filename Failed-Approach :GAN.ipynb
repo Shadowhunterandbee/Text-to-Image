{
  "cells": [
    {
      "cell_type": "markdown",
      "metadata": {
        "id": "view-in-github",
        "colab_type": "text"
      },
      "source": [
        "<a href=\"https://colab.research.google.com/github/Shadowhunterandbee/Text-to-Image/blob/main/Failed-Approach%20%3AGAN.ipynb\" target=\"_parent\"><img src=\"https://colab.research.google.com/assets/colab-badge.svg\" alt=\"Open In Colab\"/></a>"
      ]
    },
    {
      "cell_type": "code",
      "execution_count": null,
      "metadata": {
        "id": "HOhrY2uDVPdH"
      },
      "outputs": [],
      "source": [
        "import torch\n",
        "import torchvision\n",
        "import numpy as np\n",
        "import matplotlib.pyplot as plt\n",
        "import torch.nn as nn\n",
        "import torch.nn.functional as F\n",
        "from torchvision.datasets import CIFAR10\n",
        "from torchvision.transforms import ToTensor\n",
        "from torchvision.utils import make_grid\n",
        "from torch.utils.data.dataloader import DataLoader\n",
        "from torch.utils.data import random_split\n",
        "%matplotlib inline"
      ]
    },
    {
      "cell_type": "code",
      "execution_count": null,
      "metadata": {
        "id": "GdVpN4VFVQM3"
      },
      "outputs": [],
      "source": [
        "# Project name used for jovian.commit\n",
        "project_name = '03-cifar10-feedforward'"
      ]
    },
    {
      "cell_type": "code",
      "execution_count": null,
      "metadata": {
        "colab": {
          "base_uri": "https://localhost:8080/"
        },
        "id": "rIxXEfx4VVnY",
        "outputId": "0e108eb2-60a9-4a66-8e6e-fb35aea333ba"
      },
      "outputs": [
        {
          "output_type": "stream",
          "name": "stdout",
          "text": [
            "Downloading https://www.cs.toronto.edu/~kriz/cifar-10-python.tar.gz to data/cifar-10-python.tar.gz\n"
          ]
        },
        {
          "output_type": "stream",
          "name": "stderr",
          "text": [
            "100%|██████████| 170498071/170498071 [00:10<00:00, 16054816.69it/s]\n"
          ]
        },
        {
          "output_type": "stream",
          "name": "stdout",
          "text": [
            "Extracting data/cifar-10-python.tar.gz to data/\n"
          ]
        }
      ],
      "source": [
        "dataset = CIFAR10(root='data/', download=True, transform=ToTensor())\n",
        "test_dataset = CIFAR10(root='data/', train=False, transform=ToTensor())"
      ]
    },
    {
      "cell_type": "code",
      "execution_count": null,
      "metadata": {
        "colab": {
          "base_uri": "https://localhost:8080/",
          "height": 606
        },
        "id": "Ji_HrzsdVYlT",
        "outputId": "d8e1e76f-4b23-441d-de7a-0467f059a775"
      },
      "outputs": [
        {
          "output_type": "stream",
          "name": "stdout",
          "text": [
            "Label (numeric): 6\n"
          ]
        },
        {
          "output_type": "error",
          "ename": "NameError",
          "evalue": "name 'classes' is not defined",
          "traceback": [
            "\u001b[0;31m---------------------------------------------------------------------------\u001b[0m",
            "\u001b[0;31mNameError\u001b[0m                                 Traceback (most recent call last)",
            "\u001b[0;32m<ipython-input-5-5f76f5b491db>\u001b[0m in \u001b[0;36m<cell line: 4>\u001b[0;34m()\u001b[0m\n\u001b[1;32m      2\u001b[0m \u001b[0mplt\u001b[0m\u001b[0;34m.\u001b[0m\u001b[0mimshow\u001b[0m\u001b[0;34m(\u001b[0m\u001b[0mimg\u001b[0m\u001b[0;34m.\u001b[0m\u001b[0mpermute\u001b[0m\u001b[0;34m(\u001b[0m\u001b[0;34m(\u001b[0m\u001b[0;36m1\u001b[0m\u001b[0;34m,\u001b[0m \u001b[0;36m2\u001b[0m\u001b[0;34m,\u001b[0m \u001b[0;36m0\u001b[0m\u001b[0;34m)\u001b[0m\u001b[0;34m)\u001b[0m\u001b[0;34m)\u001b[0m\u001b[0;34m\u001b[0m\u001b[0;34m\u001b[0m\u001b[0m\n\u001b[1;32m      3\u001b[0m \u001b[0mprint\u001b[0m\u001b[0;34m(\u001b[0m\u001b[0;34m'Label (numeric):'\u001b[0m\u001b[0;34m,\u001b[0m \u001b[0mlabel\u001b[0m\u001b[0;34m)\u001b[0m\u001b[0;34m\u001b[0m\u001b[0;34m\u001b[0m\u001b[0m\n\u001b[0;32m----> 4\u001b[0;31m \u001b[0mprint\u001b[0m\u001b[0;34m(\u001b[0m\u001b[0;34m'Label (textual):'\u001b[0m\u001b[0;34m,\u001b[0m \u001b[0mclasses\u001b[0m\u001b[0;34m[\u001b[0m\u001b[0mlabel\u001b[0m\u001b[0;34m]\u001b[0m\u001b[0;34m)\u001b[0m\u001b[0;34m\u001b[0m\u001b[0;34m\u001b[0m\u001b[0m\n\u001b[0m",
            "\u001b[0;31mNameError\u001b[0m: name 'classes' is not defined"
          ]
        },
        {
          "output_type": "display_data",
          "data": {
            "text/plain": [
              "<Figure size 640x480 with 1 Axes>"
            ],
            "image/png": "[encoded data removed]"
          },
          "metadata": {}
        }
      ],
      "source": [
        "img, label = dataset[0]\n",
        "plt.imshow(img.permute((1, 2, 0)))\n",
        "print('Label (numeric):', label)\n",
        "print('Label (textual):', classes[label])"
      ]
    },
    {
      "cell_type": "code",
      "execution_count": null,
      "metadata": {
        "id": "WsB8hojSWRiC"
      },
      "outputs": [],
      "source": [
        "torch.manual_seed(43)\n",
        "val_size = 5000\n",
        "train_size = len(dataset) - val_size"
      ]
    },
    {
      "cell_type": "code",
      "execution_count": null,
      "metadata": {
        "id": "lqM_xvY3WsQ3"
      },
      "outputs": [],
      "source": [
        "train_ds, val_ds = random_split(dataset, [train_size, val_size])\n",
        "len(train_ds), len(val_ds)"
      ]
    },
    {
      "cell_type": "code",
      "execution_count": null,
      "metadata": {
        "id": "zqa9_aNWWuYX"
      },
      "outputs": [],
      "source": [
        "batch_size=120\n"
      ]
    },
    {
      "cell_type": "code",
      "execution_count": null,
      "metadata": {
        "id": "Z-RSLZdgWxja"
      },
      "outputs": [],
      "source": [
        "train_loader = DataLoader(train_ds, batch_size, shuffle=True, num_workers=4, pin_memory=True)\n",
        "val_loader = DataLoader(val_ds, batch_size*2, num_workers=4, pin_memory=True)\n",
        "test_loader = DataLoader(test_dataset, batch_size*2, num_workers=4, pin_memory=True)"
      ]
    },
    {
      "cell_type": "code",
      "execution_count": null,
      "metadata": {
        "id": "DEjkdyvDW0fH"
      },
      "outputs": [],
      "source": [
        "for images, _ in train_loader:\n",
        "    print('images.shape:', images.shape)\n",
        "    plt.figure(figsize=(16,8))\n",
        "    plt.axis('off')\n",
        "    plt.imshow(make_grid(images, nrow=16).permute((1, 2, 0)))\n",
        "    break"
      ]
    },
    {
      "cell_type": "code",
      "execution_count": null,
      "metadata": {
        "id": "IV3XkqAPW7vO"
      },
      "outputs": [],
      "source": [
        "\n",
        "def accuracy(outputs, labels):\n",
        "    _, preds = torch.max(outputs, dim=1)\n",
        "    return torch.tensor(torch.sum(preds == labels).item() / len(preds))"
      ]
    },
    {
      "cell_type": "code",
      "execution_count": null,
      "metadata": {
        "id": "gQIgvaeEW9no"
      },
      "outputs": [],
      "source": [
        "class ImageClassificationBase(nn.Module):\n",
        "    def training_step(self, batch):\n",
        "        images, labels = batch\n",
        "        out = self(images)                  # Generate predictions\n",
        "        loss = F.cross_entropy(out, labels) # Calculate loss\n",
        "        return loss\n",
        "\n",
        "    def validation_step(self, batch):\n",
        "        images, labels = batch\n",
        "        out = self(images)                    # Generate predictions\n",
        "        loss = F.cross_entropy(out, labels)   # Calculate loss\n",
        "        acc = accuracy(out, labels)           # Calculate accuracy\n",
        "        return {'val_loss': loss.detach(), 'val_acc': acc}\n",
        "\n",
        "    def validation_epoch_end(self, outputs):\n",
        "        batch_losses = [x['val_loss'] for x in outputs]\n",
        "        epoch_loss = torch.stack(batch_losses).mean()   # Combine losses\n",
        "        batch_accs = [x['val_acc'] for x in outputs]\n",
        "        epoch_acc = torch.stack(batch_accs).mean()      # Combine accuracies\n",
        "        return {'val_loss': epoch_loss.item(), 'val_acc': epoch_acc.item()}\n",
        "\n",
        "    def epoch_end(self, epoch, result):\n",
        "        print(\"Epoch [{}], val_loss: {:.4f}, val_acc: {:.4f}\".format(epoch, result['val_loss'], result['val_acc']))"
      ]
    },
    {
      "cell_type": "code",
      "execution_count": null,
      "metadata": {
        "id": "epPRVJKAW_Zg"
      },
      "outputs": [],
      "source": [
        "def evaluate(model, val_loader):\n",
        "    outputs = [model.validation_step(batch) for batch in val_loader]\n",
        "    return model.validation_epoch_end(outputs)\n",
        "\n",
        "def fit(epochs, lr, model, train_loader, val_loader, opt_func=torch.optim.SGD):\n",
        "    history = []\n",
        "    optimizer = opt_func(model.parameters(), lr)\n",
        "    for epoch in range(epochs):\n",
        "        # Training Phase\n",
        "        for batch in train_loader:\n",
        "            loss = model.training_step(batch)\n",
        "            loss.backward()\n",
        "            optimizer.step()\n",
        "            optimizer.zero_grad()\n",
        "        # Validation phase\n",
        "        result = evaluate(model, val_loader)\n",
        "        model.epoch_end(epoch, result)\n",
        "        history.append(result)\n",
        "    return history"
      ]
    },
    {
      "cell_type": "code",
      "execution_count": null,
      "metadata": {
        "id": "Av09uDejXA_M"
      },
      "outputs": [],
      "source": [
        "torch.cuda.is_available()"
      ]
    },
    {
      "cell_type": "markdown",
      "metadata": {
        "id": "EpZscTC8cMTB"
      },
      "source": []
    },
    {
      "cell_type": "code",
      "execution_count": null,
      "metadata": {
        "id": "1ERqQvjnXC-b"
      },
      "outputs": [],
      "source": [
        "\n",
        "def get_default_device():\n",
        "    \"\"\"Pick GPU if available, else CPU\"\"\"\n",
        "    if torch.cuda.is_available():\n",
        "        return torch.device('cuda')\n",
        "    else:\n",
        "        return torch.device('cpu')"
      ]
    },
    {
      "cell_type": "code",
      "execution_count": null,
      "metadata": {
        "id": "cZ6YamkYXFOm"
      },
      "outputs": [],
      "source": [
        "def to_device(data, device):\n",
        "    \"\"\"Move tensor(s) to chosen device\"\"\"\n",
        "    if isinstance(data, (list,tuple)):\n",
        "        return [to_device(x, device) for x in data]\n",
        "    return data.to(device, non_blocking=True)\n",
        "\n",
        "class DeviceDataLoader():\n",
        "    \"\"\"Wrap a dataloader to move data to a device\"\"\"\n",
        "    def __init__(self, dl, device):\n",
        "        self.dl = dl\n",
        "\n",
        "        self.device = device\n",
        "\n",
        "    def __iter__(self):\n",
        "        \"\"\"Yield a batch of data after moving it to device\"\"\"\n",
        "        for b in self.dl:\n",
        "            yield to_device(b, self.device)\n",
        "\n",
        "    def __len__(self):\n",
        "        \"\"\"Number of batches\"\"\"\n",
        "        return len(self.dl)"
      ]
    },
    {
      "cell_type": "code",
      "execution_count": null,
      "metadata": {
        "id": "MOeMhq3-XHE3"
      },
      "outputs": [],
      "source": [
        "def plot_losses(history):\n",
        "    losses = [x['val_loss'] for x in history]\n",
        "    plt.plot(losses, '-x')\n",
        "    plt.xlabel('epoch')\n",
        "    plt.ylabel('loss')\n",
        "    plt.title('Loss vs. No. of epochs');"
      ]
    },
    {
      "cell_type": "code",
      "execution_count": null,
      "metadata": {
        "id": "k7oxVOAEXLea"
      },
      "outputs": [],
      "source": [
        "def plot_accuracies(history):\n",
        "    accuracies = [x['val_acc'] for x in history]\n",
        "    plt.plot(accuracies, '-x')\n",
        "    plt.xlabel('epoch')\n",
        "    plt.ylabel('accuracy')\n",
        "    plt.title('Accuracy vs. No. of epochs');"
      ]
    },
    {
      "cell_type": "code",
      "execution_count": null,
      "metadata": {
        "id": "eX4LXOXcXM64"
      },
      "outputs": [],
      "source": [
        "import torch\n",
        "import torchvision\n",
        "import torchvision.transforms as transforms\n",
        "\n",
        "# Check if a GPU is available and if not, use a CPU\n",
        "device = torch.device(\"cuda\" if torch.cuda.is_available() else \"cpu\")\n",
        "\n",
        "# Define the transform to normalize the data\n",
        "transform = transforms.Compose([\n",
        "    transforms.ToTensor(),\n",
        "    transforms.Normalize((0.5, 0.5, 0.5), (0.5, 0.5, 0.5)),\n",
        "])\n",
        "\n",
        "# Load the CIFAR-10 training and test datasets\n",
        "trainset = torchvision.datasets.CIFAR10(root='./data', train=True, download=True, transform=transform)\n",
        "testset = torchvision.datasets.CIFAR10(root='./data', train=False, download=True, transform=transform)\n",
        "\n",
        "# Create data loaders\n",
        "train_loader = torch.utils.data.DataLoader(trainset, batch_size=4, shuffle=True, num_workers=2)\n",
        "test_loader = torch.utils.data.DataLoader(testset, batch_size=4, shuffle=False, num_workers=2)\n",
        "\n",
        "# Count the number of images in the training and test datasets\n",
        "dataset_size = len(trainset)\n",
        "test_dataset_size = len(testset)\n",
        "\n",
        "print(f\"Number of images in the training dataset: {dataset_size}\")\n",
        "print(f\"Number of images in the test dataset: {test_dataset_size}\")\n"
      ]
    },
    {
      "cell_type": "code",
      "execution_count": null,
      "metadata": {
        "id": "Nyo1yC-BXOiQ"
      },
      "outputs": [],
      "source": [
        "input_size = 3*32*32\n",
        "output_size = 10"
      ]
    },
    {
      "cell_type": "code",
      "execution_count": null,
      "metadata": {
        "id": "wtKEyCjIXmV9"
      },
      "outputs": [],
      "source": [
        "class CIFAR10Model(ImageClassificationBase):\n",
        "    def __init__(self):\n",
        "        super().__init__()\n",
        "\n",
        "    def forward(self, xb):\n",
        "        # Flatten images into vectors\n",
        "        out = xb.view(xb.size(0), -1)\n",
        "        # Apply layers & activation functions\n",
        "        return out"
      ]
    },
    {
      "cell_type": "code",
      "execution_count": null,
      "metadata": {
        "id": "Fe_ee3lNXpYv"
      },
      "outputs": [],
      "source": [
        "model = to_device(CIFAR10Model(), device)"
      ]
    },
    {
      "cell_type": "code",
      "execution_count": null,
      "metadata": {
        "id": "cZ3g_FenXsdA"
      },
      "outputs": [],
      "source": [
        "import os\n",
        "import torch\n",
        "import torch.nn as nn\n",
        "import torch.optim as optim\n",
        "import torchvision\n",
        "import torchvision.transforms as transforms\n",
        "from torch.utils.data import DataLoader\n",
        "import numpy as np\n",
        "import matplotlib.pyplot as plt\n",
        "\n",
        "# Set device\n",
        "device = torch.device(\"cuda\" if torch.cuda.is_available() else \"cpu\")\n",
        "\n",
        "# Define the transform to normalize the data\n",
        "transform = transforms.Compose([\n",
        "    transforms.ToTensor(),\n",
        "    transforms.Normalize((0.5, 0.5, 0.5), (0.5, 0.5, 0.5)),\n",
        "])\n",
        "\n",
        "# Load CIFAR-10 dataset\n",
        "data_dir = '/content/data/cifar-10-batches-py'\n",
        "trainset = torchvision.datasets.CIFAR10(root=data_dir, train=True, download=True, transform=transform)\n",
        "train_loader = DataLoader(trainset, batch_size=128, shuffle=True, num_workers=2)\n",
        "\n",
        "# Display some sample images\n",
        "def show_samples(dataset, num_samples=15):\n",
        "    for i in range(num_samples):\n",
        "        plt.subplot(4, 10, i + 1)\n",
        "        plt.axis('off')\n",
        "        plt.imshow(np.transpose(dataset[i][0].numpy(), (1, 2, 0)) * 0.5 + 0.5)\n",
        "    plt.show()\n",
        "\n",
        "show_samples(trainset)\n"
      ]
    },
    {
      "cell_type": "code",
      "execution_count": null,
      "metadata": {
        "id": "qQZa0H7dHYri"
      },
      "outputs": [],
      "source": [
        "# Define the Discriminator Model\n",
        "class Discriminator(nn.Module):\n",
        "    def __init__(self):\n",
        "        super(Discriminator, self).__init__()\n",
        "        self.model = nn.Sequential(\n",
        "            nn.Conv2d(3, 64, kernel_size=4, stride=2, padding=1),\n",
        "            nn.LeakyReLU(0.2, inplace=True),\n",
        "            nn.Conv2d(64, 128, kernel_size=4, stride=2, padding=1),\n",
        "            nn.BatchNorm2d(128),\n",
        "            nn.LeakyReLU(0.2, inplace=True),\n",
        "            nn.Conv2d(128, 256, kernel_size=4, stride=2, padding=1),\n",
        "            nn.BatchNorm2d(256),\n",
        "            nn.LeakyReLU(0.2, inplace=True),\n",
        "            nn.Conv2d(256, 512, kernel_size=4, stride=2, padding=1),\n",
        "            nn.BatchNorm2d(512),\n",
        "            nn.LeakyReLU(0.2, inplace=True),\n",
        "            nn.Flatten(),\n",
        "            nn.Linear(512*2*2, 1),\n",
        "            nn.Sigmoid()\n",
        "        )\n",
        "\n",
        "    def forward(self, x):\n",
        "        return self.model(x)\n",
        "\n",
        "# Define the Generator Model\n",
        "class Generator(nn.Module):\n",
        "    def __init__(self):\n",
        "        super(Generator, self).__init__()\n",
        "        self.model = nn.Sequential(\n",
        "            nn.Linear(100, 512*2*2),\n",
        "            nn.ReLU(True),\n",
        "            nn.BatchNorm1d(512*2*2),\n",
        "            nn.Unflatten(1, (512, 2, 2)),\n",
        "            nn.ConvTranspose2d(512, 256, kernel_size=4, stride=2, padding=1),\n",
        "            nn.ReLU(True),\n",
        "            nn.BatchNorm2d(256),\n",
        "            nn.ConvTranspose2d(256, 128, kernel_size=4, stride=2, padding=1),\n",
        "            nn.ReLU(True),\n",
        "            nn.BatchNorm2d(128),\n",
        "            nn.ConvTranspose2d(128, 64, kernel_size=4, stride=2, padding=1),\n",
        "            nn.ReLU(True),\n",
        "            nn.BatchNorm2d(64),\n",
        "            nn.ConvTranspose2d(64, 3, kernel_size=4, stride=2, padding=1),\n",
        "            nn.Tanh()\n",
        "        )\n",
        "\n",
        "    def forward(self, x):\n",
        "        return self.model(x)\n"
      ]
    },
    {
      "cell_type": "code",
      "execution_count": null,
      "metadata": {
        "id": "EznHgmiIIR9Y"
      },
      "outputs": [],
      "source": [
        "# Initialize models\n",
        "discriminator = Discriminator().to(device)\n",
        "generator = Generator().to(device)\n",
        "\n",
        "# Optimizers\n",
        "lr = 0.0002\n",
        "beta1 = 0.5\n",
        "optimizer_d = optim.Adam(discriminator.parameters(), lr=lr, betas=(beta1, 0.999))\n",
        "optimizer_g = optim.Adam(generator.parameters(), lr=lr, betas=(beta1, 0.999))\n",
        "\n",
        "# Loss function\n",
        "criterion = nn.BCELoss()\n",
        "\n",
        "# Training function\n",
        "def train_gan(num_epochs=50, batch_size=128):\n",
        "    for epoch in range(num_epochs):\n",
        "        for i, (real_images, _) in enumerate(train_loader):\n",
        "            # Train Discriminator\n",
        "            real_images = real_images.to(device)\n",
        "            batch_size = real_images.size(0)\n",
        "            labels_real = torch.ones(batch_size, 1).to(device)\n",
        "            labels_fake = torch.zeros(batch_size, 1).to(device)\n",
        "\n",
        "            # Forward pass real batch\n",
        "            outputs = discriminator(real_images)\n",
        "            loss_real = criterion(outputs, labels_real)\n",
        "\n",
        "            # Forward pass fake batch\n",
        "            noise = torch.randn(batch_size, 100, device=device)\n",
        "            fake_images = generator(noise)\n",
        "            outputs = discriminator(fake_images.detach())\n",
        "            loss_fake = criterion(outputs, labels_fake)\n",
        "\n",
        "            # Backprop and optimize for Discriminator\n",
        "            loss_d = loss_real + loss_fake\n",
        "            optimizer_d.zero_grad()\n",
        "            loss_d.backward()\n",
        "            optimizer_d.step()\n",
        "\n",
        "            # Train Generator\n",
        "            outputs = discriminator(fake_images)\n",
        "            loss_g = criterion(outputs, labels_real)\n",
        "\n",
        "            # Backprop and optimize for Generator\n",
        "            optimizer_g.zero_grad()\n",
        "            loss_g.backward()\n",
        "            optimizer_g.step()\n",
        "\n",
        "            if (i+1) % 200 == 0:\n",
        "                print(f\"Epoch [{epoch+1}/{num_epochs}], Step [{i+1}/{len(train_loader)}], D Loss: {loss_d.item()}, G Loss: {loss_g.item()}\")\n",
        "\n",
        "        # Save generated images for visualization\n",
        "        if (epoch+1) % 10 == 0:\n",
        "            save_generated_images(epoch+1, generator)\n",
        "\n",
        "# Save generated images for visualization\n",
        "def save_generated_images(epoch, generator, num_samples=16, figsize=(4, 4)):\n",
        "    noise = torch.randn(num_samples, 100, device=device)\n",
        "    generated_images = generator(noise).cpu().detach()\n",
        "    generated_images = (generated_images + 1) / 2.0  # Rescale to [0, 1]\n",
        "\n",
        "    plt.figure(figsize=figsize)\n",
        "    for i in range(num_samples):\n",
        "        plt.subplot(4, 4, i+1)\n",
        "        plt.imshow(np.transpose(generated_images[i].numpy(), (1, 2, 0)))\n",
        "        plt.axis('off')\n",
        "    plt.tight_layout()\n",
        "    plt.savefig(f'gan_generated_image_epoch_{epoch}.png')\n",
        "    plt.show()\n",
        "\n",
        "# Train the GAN\n",
        "train_gan(num_epochs=100)\n"
      ]
    },
    {
      "cell_type": "code",
      "execution_count": null,
      "metadata": {
        "id": "HZQozdeRIUS1"
      },
      "outputs": [],
      "source": [
        "import requests\n",
        "from PIL import Image\n",
        "from io import BytesIO\n",
        "import torchvision.transforms as transforms\n",
        "\n",
        "def load_image_from_url(url):\n",
        "    response = requests.get(url)\n",
        "    img = Image.open(BytesIO(response.content))\n",
        "    preprocess = transforms.Compose([\n",
        "        transforms.Resize((64, 64)),  # Resize the image to match the input size of the generator\n",
        "        transforms.ToTensor(),         # Convert to tensor\n",
        "        transforms.Normalize((0.5, 0.5, 0.5), (0.5, 0.5, 0.5))  # Normalize\n",
        "    ])\n",
        "    img = preprocess(img).unsqueeze(0)  # Add batch dimension\n",
        "    return img\n",
        "\n",
        "# Usage\n",
        "image_url = \"https://t4.ftcdn.net/jpg/01/77/47/67/240_F_177476718_VWfYMWCzK32bfPI308wZljGHvAUYSJcn.jpg\"\n",
        "input_image = load_image_from_url(image_url)\n",
        "\n",
        "# Check if the image is loaded\n",
        "print(input_image.shape)  # Should print the shape of the loaded image tensor\n"
      ]
    },
    {
      "cell_type": "code",
      "execution_count": null,
      "metadata": {
        "id": "JJ5gw40mSt-1"
      },
      "outputs": [],
      "source": [
        "import matplotlib.pyplot as plt\n",
        "\n",
        "# Convert tensor to NumPy array and transpose dimensions\n",
        "image_np = input_image.squeeze().numpy()  # Remove batch dimension and convert to NumPy array\n",
        "image_np = image_np.transpose(1, 2, 0)  # Transpose dimensions from (C, H, W) to (H, W, C)\n",
        "\n",
        "# Rescale the image from [-1, 1] to [0, 1] for visualization\n",
        "image_np = (image_np + 1) / 2.0\n",
        "\n",
        "# Display the image\n",
        "plt.imshow(image_np)\n",
        "plt.axis('off')  # Hide axes\n",
        "plt.show()\n"
      ]
    },
    {
      "cell_type": "code",
      "execution_count": null,
      "metadata": {
        "id": "lj3b8E8dZKAj"
      },
      "outputs": [],
      "source": [
        "print(generator)\n"
      ]
    },
    {
      "cell_type": "code",
      "execution_count": null,
      "metadata": {
        "id": "EliliKoCZNvi"
      },
      "outputs": [],
      "source": [
        "\n",
        "\n",
        "!pip install torchsummary\n",
        "from torchsummary import summary\n",
        "\n",
        "# Assuming generator is your model object\n",
        "summary(generator, input_size=(noise_dim,))\n"
      ]
    },
    {
      "cell_type": "code",
      "execution_count": null,
      "metadata": {
        "id": "keirMD-LafFP"
      },
      "outputs": [],
      "source": [
        "import torch.nn as nn\n",
        "\n",
        "class Generator(nn.Module):\n",
        "    def __init__(self):\n",
        "        super(Generator, self).__init__()\n",
        "        self.model = nn.Sequential(\n",
        "            nn.Linear(100, 2048),\n",
        "            nn.ReLU(True),\n",
        "            nn.BatchNorm1d(2048),\n",
        "            nn.Unflatten(1, (512, 2, 2)),\n",
        "            nn.ConvTranspose2d(512, 256, 4, 2, 1),\n",
        "            nn.ReLU(True),\n",
        "            nn.BatchNorm2d(256),\n",
        "            nn.ConvTranspose2d(256, 128, 4, 2, 1),\n",
        "            nn.ReLU(True),\n",
        "            nn.BatchNorm2d(128),\n",
        "            nn.ConvTranspose2d(128, 64, 4, 2, 1),\n",
        "            nn.ReLU(True),\n",
        "            nn.BatchNorm2d(64),\n",
        "            nn.ConvTranspose2d(64, 3, 4, 2, 1),\n",
        "            nn.Tanh()\n",
        "        )\n",
        "\n",
        "    def forward(self, x):\n",
        "        return self.model(x)\n"
      ]
    },
    {
      "cell_type": "code",
      "execution_count": null,
      "metadata": {
        "id": "elVKD7O8akI1"
      },
      "outputs": [],
      "source": [
        "import torch\n",
        "import torchvision.transforms as transforms\n",
        "from PIL import Image\n",
        "import matplotlib.pyplot as plt\n",
        "\n",
        "# Assuming the generator model is already defined and loaded\n",
        "# generator = Generator().to(device)\n",
        "\n",
        "# Function to load and preprocess an image from file\n",
        "def load_image_from_file(filename):\n",
        "    img = Image.open(filename)\n",
        "    preprocess = transforms.Compose([\n",
        "        transforms.Resize((64, 64)),  # Resize the image to match the input size of the generator\n",
        "        transforms.ToTensor(),         # Convert to tensor\n",
        "        transforms.Normalize((0.5, 0.5, 0.5), (0.5, 0.5, 0.5))  # Normalize\n",
        "    ])\n",
        "    img = preprocess(img).unsqueeze(0)  # Add batch dimension\n",
        "    return img\n",
        "\n",
        "# Load your image from file\n",
        "image_filename = \"/content/IMG_3656.JPG\"  # Provide the path to your image file\n",
        "input_image = load_image_from_file(image_filename)\n",
        "\n",
        "# Move input image to the same device as the generator model\n",
        "device = 'cuda' if torch.cuda.is_available() else 'cpu'\n",
        "input_image = input_image.to(device)\n",
        "\n",
        "# Switch model to evaluation mode to use running estimates for BatchNorm\n",
        "generator.eval()\n",
        "\n",
        "# Generate random noise with the shape expected by the generator\n",
        "batch_size = input_image.size(0)\n",
        "noise_dim = 100\n",
        "noise = torch.randn(batch_size, noise_dim, device=device)\n",
        "\n",
        "# Generate an image using the noise\n",
        "with torch.no_grad():\n",
        "    generated_image = generator(noise)\n",
        "\n",
        "# Convert generated image tensor to NumPy array and transpose dimensions\n",
        "generated_image_np = generated_image.squeeze().cpu().numpy()  # Remove batch dimension and convert to NumPy array\n",
        "generated_image_np = generated_image_np.transpose(1, 2, 0)  # Transpose dimensions from (C, H, W) to (H, W, C)\n",
        "\n",
        "# Rescale the generated image from [-1, 1] to [0, 1] for visualization\n",
        "generated_image_np = (generated_image_np + 1) / 2.0\n",
        "\n",
        "# Display the generated image\n",
        "plt.imshow(generated_image_np)\n",
        "plt.axis('off')  # Hide axes\n",
        "plt.show()\n"
      ]
    },
    {
      "cell_type": "code",
      "execution_count": null,
      "metadata": {
        "id": "-GtBUqwXa8HH"
      },
      "outputs": [],
      "source": [
        "!pip install realesrgan\n"
      ]
    },
    {
      "cell_type": "code",
      "execution_count": null,
      "metadata": {
        "id": "CsKqgg3ibgjk"
      },
      "outputs": [],
      "source": [
        "import torch\n",
        "import torchvision.transforms as transforms\n",
        "from PIL import Image\n",
        "import matplotlib.pyplot as plt\n",
        "from realesrgan import RealESRGAN\n",
        "\n",
        "# Function to load and preprocess an image from file\n",
        "def load_image_from_file(filename):\n",
        "    img = Image.open(filename)\n",
        "    preprocess = transforms.Compose([\n",
        "        transforms.Resize((64, 64)),  # Resize the image to match the input size of the generator\n",
        "        transforms.ToTensor(),         # Convert to tensor\n",
        "        transforms.Normalize((0.5, 0.5, 0.5), (0.5, 0.5, 0.5))  # Normalize\n",
        "    ])\n",
        "    img = preprocess(img).unsqueeze(0)  # Add batch dimension\n",
        "    return img\n",
        "\n",
        "# Load your image from file\n",
        "image_filename = \"/content/IMG_3656.JPG\"  # Provide the path to your image file\n",
        "input_image = load_image_from_file(image_filename)\n",
        "\n",
        "# Move input image to the same device as the generator model\n",
        "device = 'cuda' if torch.cuda.is_available() else 'cpu'\n",
        "input_image = input_image.to(device)\n",
        "\n",
        "# Assuming the generator model is already defined and loaded\n",
        "# generator = Generator().to(device)\n",
        "# Switch model to evaluation mode to use running estimates for BatchNorm\n",
        "generator.eval()\n",
        "\n",
        "# Generate random noise with the shape expected by the generator\n",
        "batch_size = input_image.size(0)\n",
        "noise_dim = 100\n",
        "noise = torch.randn(batch_size, noise_dim, device=device)\n",
        "\n",
        "# Generate an image using the noise\n",
        "with torch.no_grad():\n",
        "    generated_image = generator(noise)\n",
        "\n",
        "# Convert generated image tensor to NumPy array and transpose dimensions\n",
        "generated_image_np = generated_image.squeeze().cpu().numpy()  # Remove batch dimension and convert to NumPy array\n",
        "generated_image_np = generated_image_np.transpose(1, 2, 0)  # Transpose dimensions from (C, H, W) to (H, W, C)\n",
        "\n",
        "# Rescale the generated image from [-1, 1] to [0, 1] for visualization\n",
        "generated_image_np = (generated_image_np + 1) / 2.0\n",
        "generated_image_pil = Image.fromarray((generated_image_np * 255).astype('uint8'))\n",
        "\n",
        "# Apply super-resolution using Real-ESRGAN\n",
        "sr_model = RealESRGAN(device, scale=4)\n",
        "# Load pre-trained weights; ensure you have the weights file 'RealESRGAN_x4.pth' in the working directory\n",
        "sr_model.load_weights('RealESRGAN_x4.pth')\n",
        "\n",
        "# Super-resolve the image\n",
        "sr_image = sr_model.predict(generated_image_pil)\n",
        "\n",
        "# Display the super-resolved image\n",
        "plt.imshow(sr_image)\n",
        "plt.axis('off')  # Hide axes\n",
        "plt.show()\n"
      ]
    },
    {
      "cell_type": "code",
      "execution_count": null,
      "metadata": {
        "id": "2mCvmQT_V6GW"
      },
      "outputs": [],
      "source": []
    }
  ],
  "metadata": {
    "accelerator": "GPU",
    "colab": {
      "gpuType": "T4",
      "provenance": [],
      "authorship_tag": "ABX9TyPbERidrGb4NRrBUDQvhQ1H",
      "include_colab_link": true
    },
    "kernelspec": {
      "display_name": "Python 3",
      "name": "python3"
    },
    "language_info": {
      "name": "python"
    }
  },
  "nbformat": 4,
  "nbformat_minor": 0
}